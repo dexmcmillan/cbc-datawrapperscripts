{
 "cells": [
  {
   "cell_type": "code",
   "execution_count": 5,
   "metadata": {},
   "outputs": [
    {
     "name": "stderr",
     "output_type": "stream",
     "text": [
      "C:\\Users\\dexmc\\anaconda3\\lib\\site-packages\\IPython\\core\\display.py:724: UserWarning: Consider using IPython.display.IFrame instead\n",
      "  warnings.warn(\"Consider using IPython.display.IFrame instead\")\n"
     ]
    },
    {
     "data": {
      "text/html": [
       "<iframe title=\"New Chart\" aria-label=\"Stacked Bars\" id=\"datawrapper-chart-u4P9v\" src=\"https://datawrapper.dwcdn.net/u4P9v/1/\" scrolling=\"no\" frameborder=\"0\" style=\"border: none;\" width=\"600\" height=\"400\"></iframe>"
      ],
      "text/plain": [
       "<IPython.core.display.HTML object>"
      ]
     },
     "execution_count": 5,
     "metadata": {},
     "output_type": "execute_result"
    }
   ],
   "source": [
    "import pandas as pd\n",
    "import requests\n",
    "import os\n",
    "from datawrapper import Datawrapper\n",
    "\n",
    "try:\n",
    "    from config import DW_AUTH_TOKEN\n",
    "except ModuleNotFoundError:\n",
    "    # Error handling\n",
    "    pass\n",
    "\n",
    "if 'DW_AUTH_TOKEN' in os.environ:\n",
    "    AUTH_KEY = os.environ['DW_AUTH_TOKEN']\n",
    "else:\n",
    "    AUTH_KEY = DW_AUTH_TOKEN\n",
    "\n",
    "data = requests.get(\"https://canopy.cbc.ca/live/poll-tracker/v4/CAN\").json()['data']\n",
    "\n",
    "df = pd.json_normalize(data, record_path=['pollsters', 'rows', 'data'], meta=[['pollsters', 'rows', 'pollster'], ['pollsters', 'rows', 'start_date'], ['pollsters', 'rows', 'end_date']])\n",
    "\n",
    "pivot = df.pivot_table(columns=\"party\", index=\"pollsters.rows.pollster\", values=\"seats\", aggfunc=\"mean\")\n",
    "\n",
    "dw = Datawrapper(access_token=AUTH_KEY)\n",
    "\n",
    "dw.add_data(chart_id=\"keAsd\", data=pivot)\n",
    "dw.display_chart(chart_id=\"keAsd\")"
   ]
  }
 ],
 "metadata": {
  "interpreter": {
   "hash": "f4d1a38d5d0290456d21c8fc16b003197c4108b66277a3181758af8be3ad3a7c"
  },
  "kernelspec": {
   "display_name": "Python 3.9.7 ('base')",
   "language": "python",
   "name": "python3"
  },
  "language_info": {
   "codemirror_mode": {
    "name": "ipython",
    "version": 3
   },
   "file_extension": ".py",
   "mimetype": "text/x-python",
   "name": "python",
   "nbconvert_exporter": "python",
   "pygments_lexer": "ipython3",
   "version": "3.9.7"
  },
  "orig_nbformat": 4
 },
 "nbformat": 4,
 "nbformat_minor": 2
}
